{
  "nbformat": 4,
  "nbformat_minor": 0,
  "metadata": {
    "colab": {
      "provenance": []
    },
    "kernelspec": {
      "name": "python3",
      "display_name": "Python 3"
    },
    "language_info": {
      "name": "python"
    }
  },
  "cells": [
    {
      "cell_type": "code",
      "execution_count": 3,
      "metadata": {
        "id": "xTdHrzx5YvM8"
      },
      "outputs": [],
      "source": [
        "# Q1. Which keyword is used to create a function? Create a function to return a list of odd numbers in the\n",
        "# range of 1 to 25.\n",
        "\n",
        "\n",
        "#  ans.  def keyword is used to  crete   a function.\n",
        "\n",
        "\n",
        "l = list(range(1,26,))"
      ]
    },
    {
      "cell_type": "code",
      "source": [
        "def test007(l):\n",
        "   l1 = []\n",
        "   for i in l:\n",
        "     if i%2!= 0 :\n",
        "       l1.append(i)\n",
        "   return l1"
      ],
      "metadata": {
        "id": "WchFyaLGYxGQ"
      },
      "execution_count": 4,
      "outputs": []
    },
    {
      "cell_type": "code",
      "source": [
        "test007(l)"
      ],
      "metadata": {
        "colab": {
          "base_uri": "https://localhost:8080/"
        },
        "id": "NXqYeTswYzl8",
        "outputId": "f587428a-da8c-44ef-8168-3c7fb8d98376"
      },
      "execution_count": 5,
      "outputs": [
        {
          "output_type": "execute_result",
          "data": {
            "text/plain": [
              "[1, 3, 5, 7, 9, 11, 13, 15, 17, 19, 21, 23, 25]"
            ]
          },
          "metadata": {},
          "execution_count": 5
        }
      ]
    },
    {
      "cell_type": "code",
      "source": [
        "# Q2. Why *args and **kwargs is used in some functions? Create a function each for *args and **kwargs\n",
        "#  to demonstrate their use.\n",
        "\n",
        "# ANS.  We can use *args and **kwargs as arguments of a function when we are unsure about the number of arguments to pass in the function\n",
        "\n",
        "#  *args = It allows us to pass a variable number of non-keyword arguments to a Python function.\n",
        "#  In the function, we should use an asterisk (*) before the parameter name to pass a variable number of arguments.\n",
        "\n",
        "def sum(*args):\n",
        "\n",
        "   total = 0\n",
        "   for i in args:\n",
        "     total = total + i\n",
        "   return total\n",
        "\n",
        "sum(1,23,5,6,25)\n"
      ],
      "metadata": {
        "colab": {
          "base_uri": "https://localhost:8080/"
        },
        "id": "cXc3gSa9Y2RP",
        "outputId": "6bc3e683-8f47-413c-df84-975848f06257"
      },
      "execution_count": 6,
      "outputs": [
        {
          "output_type": "execute_result",
          "data": {
            "text/plain": [
              "60"
            ]
          },
          "metadata": {},
          "execution_count": 6
        }
      ]
    },
    {
      "cell_type": "markdown",
      "source": [
        "# Q2. PART - 2"
      ],
      "metadata": {
        "id": "gb2aVh5KJfyQ"
      }
    },
    {
      "cell_type": "code",
      "source": [
        "# **kwargs allows us to pass a variable number of keyword arguments to a Python function.\n",
        "# In the function, we use the double-asterisk (**) before the parameter name to denote this type of argument.\n",
        "\n",
        "def numbers(**kwargs):\n",
        "\n",
        "   total = 0\n",
        "   for i in kwargs.values():\n",
        "      total = total + i\n",
        "   return total\n",
        "\n",
        "numbers( key1 = 10 , key2 = 10)\n"
      ],
      "metadata": {
        "colab": {
          "base_uri": "https://localhost:8080/"
        },
        "id": "yU_CT15wHFUH",
        "outputId": "4707d69d-79d7-4a67-d210-8ec91901ba79"
      },
      "execution_count": 7,
      "outputs": [
        {
          "output_type": "execute_result",
          "data": {
            "text/plain": [
              "20"
            ]
          },
          "metadata": {},
          "execution_count": 7
        }
      ]
    },
    {
      "cell_type": "code",
      "source": [
        "#  Q3. What is an iterator in python? Name the method used to initialise the iterator object and the method\n",
        "#      used for iteration. Use these methods to print the first five elements of the given list [2, 4, 6, 8, 10, 12, 14,  16, 18, 20].\n",
        "\n",
        "# Ans.  An iterator in Python is an object that is used to iterate over iterable objects like lists, tuples, dicts, and sets.\n",
        "#       iter() method used to initialise the iterator object. next()  method used for iteration.\n",
        "\n",
        "l =  [2, 4, 6, 8, 10, 12, 14,  16, 18, 20]\n",
        "\n",
        "l1 = iter(l)\n",
        "\n",
        "next(l1)\n"
      ],
      "metadata": {
        "colab": {
          "base_uri": "https://localhost:8080/"
        },
        "id": "Qaz3kb8GLcH5",
        "outputId": "9564625e-9654-43cf-9687-453860401e15"
      },
      "execution_count": 8,
      "outputs": [
        {
          "output_type": "execute_result",
          "data": {
            "text/plain": [
              "2"
            ]
          },
          "metadata": {},
          "execution_count": 8
        }
      ]
    },
    {
      "cell_type": "code",
      "source": [
        "next(l1)"
      ],
      "metadata": {
        "colab": {
          "base_uri": "https://localhost:8080/"
        },
        "id": "d0FAk8BqX6rH",
        "outputId": "7572479d-590b-490a-d0ae-901ce911627f"
      },
      "execution_count": 9,
      "outputs": [
        {
          "output_type": "execute_result",
          "data": {
            "text/plain": [
              "4"
            ]
          },
          "metadata": {},
          "execution_count": 9
        }
      ]
    },
    {
      "cell_type": "code",
      "source": [
        "next(l1)"
      ],
      "metadata": {
        "colab": {
          "base_uri": "https://localhost:8080/"
        },
        "id": "NiSeNWELYIwv",
        "outputId": "0882a521-1505-44b9-d530-067c63143818"
      },
      "execution_count": 10,
      "outputs": [
        {
          "output_type": "execute_result",
          "data": {
            "text/plain": [
              "6"
            ]
          },
          "metadata": {},
          "execution_count": 10
        }
      ]
    },
    {
      "cell_type": "code",
      "source": [
        "next(l1)"
      ],
      "metadata": {
        "colab": {
          "base_uri": "https://localhost:8080/"
        },
        "id": "lHOD_ODzYJPH",
        "outputId": "8932e619-7bdc-433d-e4d6-09ce249a2697"
      },
      "execution_count": 11,
      "outputs": [
        {
          "output_type": "execute_result",
          "data": {
            "text/plain": [
              "8"
            ]
          },
          "metadata": {},
          "execution_count": 11
        }
      ]
    },
    {
      "cell_type": "code",
      "source": [
        "next(l1)"
      ],
      "metadata": {
        "colab": {
          "base_uri": "https://localhost:8080/"
        },
        "id": "uf2szrgrYJv1",
        "outputId": "e00b83e2-8160-4371-80a8-5142555ea0fe"
      },
      "execution_count": 12,
      "outputs": [
        {
          "output_type": "execute_result",
          "data": {
            "text/plain": [
              "10"
            ]
          },
          "metadata": {},
          "execution_count": 12
        }
      ]
    },
    {
      "cell_type": "code",
      "source": [
        "#  Q4. What is a generator function in python? Why yield keyword is used? Give an example of a generator\n",
        "#      function.\n",
        "#  ANS.  Generator-Function: A generator-function is defined like a normal function, but whenever it needs to generate a value,\n",
        "#        it does so with the yield keyword rather than return. If the body of a def contains yield, the function automatically becomes a generator function.\n",
        "\n",
        "#       the yield keyword will convert an expression that is specified along with it to a generator object and return it to the caller.\n",
        "\n",
        "def potato(n):\n",
        "\n",
        "    for i in range(n):\n",
        "      yield i**2\n",
        "for i in potato(6):\n",
        "  print(i)"
      ],
      "metadata": {
        "id": "SQklg1HkYKKV",
        "colab": {
          "base_uri": "https://localhost:8080/"
        },
        "outputId": "b20188bb-544e-41f5-c1fd-0eec0f5eb793"
      },
      "execution_count": 13,
      "outputs": [
        {
          "output_type": "stream",
          "name": "stdout",
          "text": [
            "0\n",
            "1\n",
            "4\n",
            "9\n",
            "16\n",
            "25\n"
          ]
        }
      ]
    },
    {
      "cell_type": "code",
      "source": [
        "# Q5. Create a generator function for prime numbers less than 1000. Use the next() method to print the\n",
        "#     first 20 prime numbers.\n",
        "\n",
        "\n",
        "def prime_number(a,b):\n",
        "   for j in range(a,b):\n",
        "    if  j>1 :\n",
        "     for i in range(2,j):\n",
        "      if (j%i==0):\n",
        "        break\n",
        "     else:\n",
        "      yield(j)\n",
        "\n",
        "for k in prime_number(2,1000):\n",
        "  print(k)\n",
        "\n"
      ],
      "metadata": {
        "colab": {
          "base_uri": "https://localhost:8080/"
        },
        "id": "azLRDml7LtvD",
        "outputId": "9dadc04f-0157-469c-8f00-cd03782f0148"
      },
      "execution_count": 14,
      "outputs": [
        {
          "output_type": "stream",
          "name": "stdout",
          "text": [
            "2\n",
            "3\n",
            "5\n",
            "7\n",
            "11\n",
            "13\n",
            "17\n",
            "19\n",
            "23\n",
            "29\n",
            "31\n",
            "37\n",
            "41\n",
            "43\n",
            "47\n",
            "53\n",
            "59\n",
            "61\n",
            "67\n",
            "71\n",
            "73\n",
            "79\n",
            "83\n",
            "89\n",
            "97\n",
            "101\n",
            "103\n",
            "107\n",
            "109\n",
            "113\n",
            "127\n",
            "131\n",
            "137\n",
            "139\n",
            "149\n",
            "151\n",
            "157\n",
            "163\n",
            "167\n",
            "173\n",
            "179\n",
            "181\n",
            "191\n",
            "193\n",
            "197\n",
            "199\n",
            "211\n",
            "223\n",
            "227\n",
            "229\n",
            "233\n",
            "239\n",
            "241\n",
            "251\n",
            "257\n",
            "263\n",
            "269\n",
            "271\n",
            "277\n",
            "281\n",
            "283\n",
            "293\n",
            "307\n",
            "311\n",
            "313\n",
            "317\n",
            "331\n",
            "337\n",
            "347\n",
            "349\n",
            "353\n",
            "359\n",
            "367\n",
            "373\n",
            "379\n",
            "383\n",
            "389\n",
            "397\n",
            "401\n",
            "409\n",
            "419\n",
            "421\n",
            "431\n",
            "433\n",
            "439\n",
            "443\n",
            "449\n",
            "457\n",
            "461\n",
            "463\n",
            "467\n",
            "479\n",
            "487\n",
            "491\n",
            "499\n",
            "503\n",
            "509\n",
            "521\n",
            "523\n",
            "541\n",
            "547\n",
            "557\n",
            "563\n",
            "569\n",
            "571\n",
            "577\n",
            "587\n",
            "593\n",
            "599\n",
            "601\n",
            "607\n",
            "613\n",
            "617\n",
            "619\n",
            "631\n",
            "641\n",
            "643\n",
            "647\n",
            "653\n",
            "659\n",
            "661\n",
            "673\n",
            "677\n",
            "683\n",
            "691\n",
            "701\n",
            "709\n",
            "719\n",
            "727\n",
            "733\n",
            "739\n",
            "743\n",
            "751\n",
            "757\n",
            "761\n",
            "769\n",
            "773\n",
            "787\n",
            "797\n",
            "809\n",
            "811\n",
            "821\n",
            "823\n",
            "827\n",
            "829\n",
            "839\n",
            "853\n",
            "857\n",
            "859\n",
            "863\n",
            "877\n",
            "881\n",
            "883\n",
            "887\n",
            "907\n",
            "911\n",
            "919\n",
            "929\n",
            "937\n",
            "941\n",
            "947\n",
            "953\n",
            "967\n",
            "971\n",
            "977\n",
            "983\n",
            "991\n",
            "997\n"
          ]
        }
      ]
    },
    {
      "cell_type": "markdown",
      "source": [
        "# Q5. PART - 2"
      ],
      "metadata": {
        "id": "YRSHLPBbIrhd"
      }
    },
    {
      "cell_type": "code",
      "source": [
        "# Q5. Create a generator function for prime numbers less than 1000. Use the next() method to print the\n",
        "#     first 20 prime numbers.\n",
        "\n",
        "\n",
        "def prime_number(a,b):\n",
        "   for j in range(a,b):\n",
        "    if  j>1 :\n",
        "     for i in range(2,j):\n",
        "      if (j%i==0):\n",
        "        break\n",
        "     else:\n",
        "      yield(j)\n",
        "\n",
        "l = prime_number(2,1000)\n",
        "type(l)\n",
        "\n",
        "for i in  range(20):\n",
        "  print(next(l))"
      ],
      "metadata": {
        "colab": {
          "base_uri": "https://localhost:8080/"
        },
        "id": "gptL264EI4Ed",
        "outputId": "23ae67dc-ad3c-4df1-8de8-7651726f17ce"
      },
      "execution_count": 20,
      "outputs": [
        {
          "output_type": "stream",
          "name": "stdout",
          "text": [
            "2\n",
            "3\n",
            "5\n",
            "7\n",
            "11\n",
            "13\n",
            "17\n",
            "19\n",
            "23\n",
            "29\n",
            "31\n",
            "37\n",
            "41\n",
            "43\n",
            "47\n",
            "53\n",
            "59\n",
            "61\n",
            "67\n",
            "71\n"
          ]
        }
      ]
    },
    {
      "cell_type": "markdown",
      "source": [
        "# Q6."
      ],
      "metadata": {
        "id": "3rYVyS6nJDaQ"
      }
    },
    {
      "cell_type": "code",
      "source": [
        "# Write a python program to print the first 10 Fibonacci numbers using a while loop.\n",
        "\n",
        "def test_fib(*args):\n",
        "  a,b = 0,1\n",
        "  while True:\n",
        "     yield a\n",
        "     a,b = b, a+b\n",
        "\n",
        "fib = test_fib()\n",
        "for i in range(10):\n",
        "   print(next(fib))\n",
        "\n",
        "\n"
      ],
      "metadata": {
        "colab": {
          "base_uri": "https://localhost:8080/"
        },
        "id": "ptdywIRx7F6j",
        "outputId": "2a7d2640-8628-488f-ec0c-a2bf20c138b8"
      },
      "execution_count": 15,
      "outputs": [
        {
          "output_type": "stream",
          "name": "stdout",
          "text": [
            "0\n",
            "1\n",
            "1\n",
            "2\n",
            "3\n",
            "5\n",
            "8\n",
            "13\n",
            "21\n",
            "34\n"
          ]
        }
      ]
    },
    {
      "cell_type": "code",
      "source": [
        "# Q7. Write a List Comprehension to iterate through the given string: ‘pwskills’.\n",
        "#     Expected output: ['p', 'w', 's', 'k', 'i', 'l', 'l', 's']\n",
        "\n",
        "l = [ i for i in 'pwskills']\n",
        "print(l)\n"
      ],
      "metadata": {
        "colab": {
          "base_uri": "https://localhost:8080/"
        },
        "id": "Km4pC2MTaRp1",
        "outputId": "45e0dfac-4f01-4160-f5e8-1fdac5dbaaea"
      },
      "execution_count": 16,
      "outputs": [
        {
          "output_type": "stream",
          "name": "stdout",
          "text": [
            "['p', 'w', 's', 'k', 'i', 'l', 'l', 's']\n"
          ]
        }
      ]
    },
    {
      "cell_type": "code",
      "source": [
        "#Q8. Write a python program to check whether a given number is Palindrome or not using a while loop.\n",
        "\n",
        "reverse = 0\n",
        "\n",
        "\n",
        "l = int(input(\"Enter an  interger\"))\n",
        "nope=l\n",
        "while (l>0) :\n",
        "   remainder = l%10\n",
        "   reverse = reverse * 10 + remainder\n",
        "   l = l//10\n",
        "if(nope==reverse):\n",
        "   print(\"number is Palindrome\")\n",
        "else:\n",
        "   print(\"number is not Palindrome\")"
      ],
      "metadata": {
        "colab": {
          "base_uri": "https://localhost:8080/"
        },
        "id": "hgUUKn2FDCEN",
        "outputId": "754b0556-02f8-44de-8db1-aa0ad39e8da9"
      },
      "execution_count": 17,
      "outputs": [
        {
          "output_type": "stream",
          "name": "stdout",
          "text": [
            "Enter an  interger   323\n",
            "number is Palindrome\n"
          ]
        }
      ]
    },
    {
      "cell_type": "code",
      "source": [
        "#Q9. Write a code to print odd numbers from 1 to 100 using list comprehension.\n",
        "#    Note: Use a list comprehension to create a list from 1 to 100 and use another List comprehension to filter\n",
        "#    out odd numbers.\n",
        "\n",
        "\n",
        "l = [i for i in range(1,101)]\n",
        "print(l)\n",
        "p = [k for k in l if k%2!=0]\n",
        "print(p)"
      ],
      "metadata": {
        "colab": {
          "base_uri": "https://localhost:8080/"
        },
        "id": "CRxu15covqYn",
        "outputId": "87671eb8-e009-48da-8128-047b3bdec49f"
      },
      "execution_count": 18,
      "outputs": [
        {
          "output_type": "stream",
          "name": "stdout",
          "text": [
            "[1, 2, 3, 4, 5, 6, 7, 8, 9, 10, 11, 12, 13, 14, 15, 16, 17, 18, 19, 20, 21, 22, 23, 24, 25, 26, 27, 28, 29, 30, 31, 32, 33, 34, 35, 36, 37, 38, 39, 40, 41, 42, 43, 44, 45, 46, 47, 48, 49, 50, 51, 52, 53, 54, 55, 56, 57, 58, 59, 60, 61, 62, 63, 64, 65, 66, 67, 68, 69, 70, 71, 72, 73, 74, 75, 76, 77, 78, 79, 80, 81, 82, 83, 84, 85, 86, 87, 88, 89, 90, 91, 92, 93, 94, 95, 96, 97, 98, 99, 100]\n",
            "[1, 3, 5, 7, 9, 11, 13, 15, 17, 19, 21, 23, 25, 27, 29, 31, 33, 35, 37, 39, 41, 43, 45, 47, 49, 51, 53, 55, 57, 59, 61, 63, 65, 67, 69, 71, 73, 75, 77, 79, 81, 83, 85, 87, 89, 91, 93, 95, 97, 99]\n"
          ]
        }
      ]
    },
    {
      "cell_type": "code",
      "source": [],
      "metadata": {
        "id": "6h6SUZ7vyfOP"
      },
      "execution_count": 19,
      "outputs": []
    }
  ]
}